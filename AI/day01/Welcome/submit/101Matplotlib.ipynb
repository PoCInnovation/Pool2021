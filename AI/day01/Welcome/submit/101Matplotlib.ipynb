{
 "cells": [
  {
   "cell_type": "markdown",
   "metadata": {
    "id": "KYNjXNfvl-bc"
   },
   "source": [
    "# MatPlotLib Basics\n",
    "\n",
    "Matplotlib est une bibliothèque Python servant à tracer et visualiser des données sous forme de graphiques et diagrammes. Si vous désirez avoir la représentation graphique d'une fonction mathématique ou si vous voulez afficher un dataset, par exemple représentant le nombre de likes sur une vidéo Youtube par rapport au nombre de vues, vous pouvez en tracer une courbe rapidement avec matplotlib.\n",
    "\n",
    "Matplotlib est une boîte à outils contenant de nombreux modules. Elle contient notamment PyPlot qui est une façon interactive et simple d'utiliser Matplotlib.\n",
    "\n",
    "> [Plus d'information sur la différence entre Matplotlib, Pyplot et Pylab](https://queirozf.com/entries/matplotlib-pylab-pyplot-etc-what-s-the-different-between-these)\n",
    "\n",
    "Nous allons donc utiliser le module `matplotlib.pyplot`."
   ]
  },
  {
   "cell_type": "markdown",
   "metadata": {},
   "source": [
    "## Importation des librairies nécessaires"
   ]
  },
  {
   "cell_type": "code",
   "execution_count": null,
   "metadata": {},
   "outputs": [],
   "source": [
    "%matplotlib inline\n",
    "from scipy.stats import norm\n",
    "import matplotlib.pyplot as plt\n",
    "import numpy as np"
   ]
  },
  {
   "cell_type": "markdown",
   "metadata": {
    "id": "IWnePZDSl-bg"
   },
   "source": [
    "# Afficher une fonction ou une courbe sur un repère orthogonal"
   ]
  },
  {
   "cell_type": "code",
   "execution_count": null,
   "metadata": {
    "id": "pta8DpVml-bh"
   },
   "outputs": [],
   "source": [
    "x = np.arange(-3, 3, 0.01)\n",
    "\n",
    "plt.plot(x, norm.pdf(x))\n",
    "plt.show()"
   ]
  },
  {
   "cell_type": "markdown",
   "metadata": {
    "id": "Omp6gLv1l-bh"
   },
   "source": [
    "## Afficher une ou plusieurs fonctions sur un repère orthogonal"
   ]
  },
  {
   "cell_type": "code",
   "execution_count": null,
   "metadata": {
    "id": "B4byAlyNl-bh"
   },
   "outputs": [],
   "source": [
    "plt.plot(x, norm.pdf(x))\n",
    "plt.plot(x, norm.pdf(x, 1.0, 0.5))\n",
    "plt.show()"
   ]
  },
  {
   "cell_type": "markdown",
   "metadata": {
    "id": "pruNqGO2l-bi"
   },
   "source": [
    "## Sauvegarder le résultat  "
   ]
  },
  {
   "cell_type": "code",
   "execution_count": null,
   "metadata": {
    "id": "z38zByoul-bi"
   },
   "outputs": [],
   "source": [
    "plt.plot(x, norm.pdf(x))\n",
    "plt.plot(x, norm.pdf(x, 1.0, 0.5))\n",
    "plt.savefig('POC.png', format='png')"
   ]
  },
  {
   "cell_type": "markdown",
   "metadata": {
    "id": "Y9V2S-Vml-bi"
   },
   "source": [
    "## Customiser le repère"
   ]
  },
  {
   "cell_type": "code",
   "execution_count": null,
   "metadata": {
    "id": "CVQYzzaxl-bi"
   },
   "outputs": [],
   "source": [
    "axes = plt.axes()\n",
    "axes.set_xlim([-5, 5])\n",
    "axes.set_ylim([0, 1.0])\n",
    "axes.set_xticks([-5, -4, -3, -2, -1, 0, 1, 2, 3, 4, 5])\n",
    "axes.set_yticks([0, 0.1, 0.2, 0.3, 0.4, 0.5, 0.6, 0.7, 0.8, 0.9, 1.0])\n",
    "plt.plot(x, norm.pdf(x))\n",
    "plt.plot(x, norm.pdf(x, 1.0, 0.5))\n",
    "plt.show()"
   ]
  },
  {
   "cell_type": "markdown",
   "metadata": {
    "id": "pI8HdgjTl-bj"
   },
   "source": [
    "## Ajouter une grille en arrière-plan "
   ]
  },
  {
   "cell_type": "code",
   "execution_count": null,
   "metadata": {
    "id": "wBRT1HKOl-bj"
   },
   "outputs": [],
   "source": [
    "axes = plt.axes()\n",
    "axes.set_xlim([-5, 5])\n",
    "axes.set_ylim([0, 1.0])\n",
    "axes.set_xticks([-5, -4, -3, -2, -1, 0, 1, 2, 3, 4, 5])\n",
    "axes.set_yticks([0, 0.1, 0.2, 0.3, 0.4, 0.5, 0.6, 0.7, 0.8, 0.9, 1.0])\n",
    "axes.grid()\n",
    "plt.plot(x, norm.pdf(x))\n",
    "plt.plot(x, norm.pdf(x, 1.0, 0.5))\n",
    "plt.show()"
   ]
  },
  {
   "cell_type": "markdown",
   "metadata": {
    "id": "bxOIKo2ol-bj"
   },
   "source": [
    "## Changer la couleur et les formes des courbes"
   ]
  },
  {
   "cell_type": "code",
   "execution_count": null,
   "metadata": {
    "id": "VMDbPRWUl-bj"
   },
   "outputs": [],
   "source": [
    "axes = plt.axes()\n",
    "axes.set_xlim([-5, 5])\n",
    "axes.set_ylim([0, 1.0])\n",
    "axes.set_xticks([-5, -4, -3, -2, -1, 0, 1, 2, 3, 4, 5])\n",
    "axes.set_yticks([0, 0.1, 0.2, 0.3, 0.4, 0.5, 0.6, 0.7, 0.8, 0.9, 1.0])\n",
    "axes.grid()\n",
    "plt.plot(x, norm.pdf(x), 'b-')\n",
    "plt.plot(x, norm.pdf(x, 1.0, 0.5), 'r:')\n",
    "plt.show()"
   ]
  },
  {
   "cell_type": "markdown",
   "metadata": {
    "id": "Oi3f-8EMl-bj"
   },
   "source": [
    "## Ajouter des légendes "
   ]
  },
  {
   "cell_type": "code",
   "execution_count": null,
   "metadata": {
    "id": "NWH-ZPk6l-bk"
   },
   "outputs": [],
   "source": [
    "axes = plt.axes()\n",
    "axes.set_xlim([-5, 5])\n",
    "axes.set_ylim([0, 1.0])\n",
    "axes.set_xticks([-5, -4, -3, -2, -1, 0, 1, 2, 3, 4, 5])\n",
    "axes.set_yticks([0, 0.1, 0.2, 0.3, 0.4, 0.5, 0.6, 0.7, 0.8, 0.9, 1.0])\n",
    "axes.grid()\n",
    "plt.xlabel('X')\n",
    "plt.ylabel('Y')\n",
    "plt.plot(x, norm.pdf(x), 'b-')\n",
    "plt.plot(x, norm.pdf(x, 1.0, 0.5), 'r:')\n",
    "plt.legend(['legend1', 'legend2'], loc=4)\n",
    "plt.show()"
   ]
  },
  {
   "cell_type": "markdown",
   "metadata": {
    "id": "zCDalVqjl-bk"
   },
   "source": [
    "## Faire un diagramme camembert"
   ]
  },
  {
   "cell_type": "code",
   "execution_count": null,
   "metadata": {
    "id": "RQfC_jSCl-bl"
   },
   "outputs": [],
   "source": [
    "valeur = [12, 55, 4, 32, 14]\n",
    "couleurs = ['r', 'g', 'b', 'c', 'm']\n",
    "labels = ['S', 'STI2D', 'L', 'ES', 'STMG']\n",
    "plt.pie(valeur, colors=couleurs, labels=labels)\n",
    "plt.title('Repartitions des filières')\n",
    "plt.show()"
   ]
  },
  {
   "cell_type": "markdown",
   "metadata": {
    "id": "pusX1v4Xl-bl"
   },
   "source": [
    "## Faire un diagramme en batons"
   ]
  },
  {
   "cell_type": "code",
   "execution_count": null,
   "metadata": {
    "id": "5N1R5CL2l-bl"
   },
   "outputs": [],
   "source": [
    "values = [12, 55, 4, 32, 14]\n",
    "colors = ['r', 'g', 'b', 'c', 'm']\n",
    "plt.bar(range(0,5), values, color= colors)\n",
    "plt.show()"
   ]
  },
  {
   "cell_type": "markdown",
   "metadata": {
    "id": "7xhczMGcl-bl"
   },
   "source": [
    "## Faire un nuage de points"
   ]
  },
  {
   "cell_type": "code",
   "execution_count": null,
   "metadata": {
    "id": "jnts-X4hl-bm"
   },
   "outputs": [],
   "source": [
    "from pylab import randn\n",
    "\n",
    "X = randn(500)\n",
    "Y = randn(500)\n",
    "plt.scatter(X,Y)\n",
    "plt.show()"
   ]
  },
  {
   "cell_type": "markdown",
   "metadata": {
    "id": "4JvWUnKrl-bm"
   },
   "source": [
    "## Faire un histogramme"
   ]
  },
  {
   "cell_type": "code",
   "execution_count": null,
   "metadata": {
    "id": "CIEPCXIzl-bm"
   },
   "outputs": [],
   "source": [
    "incomes = np.random.normal(27000, 15000, 10000)\n",
    "plt.hist(incomes, 50)\n",
    "plt.show()"
   ]
  },
  {
   "cell_type": "markdown",
   "metadata": {
    "id": "vXJeMFIel-bn"
   },
   "source": [
    "## Excercices\n",
    "\n",
    "* Créez une fonction $f(x) = xˆ2.$.\n",
    "* Générez 50 valeur $x$ aléatoirement.\n",
    "* Utilisez votre fonction pour avoir 50 $y$ à partir de vos 50 $x$.\n",
    "\n",
    "* Créez une courbe avec les valeurs $x$ et $y$ en ajoutant des légendes, une grille et un repère orthonormé .\n",
    "* Interprétez le résultat."
   ]
  },
  {
   "cell_type": "code",
   "execution_count": null,
   "metadata": {
    "id": "uvbEryN_l-bn"
   },
   "outputs": [],
   "source": [
    "# Écrivez votre code ici"
   ]
  }
 ],
 "metadata": {
  "colab": {
   "collapsed_sections": [
    "KYNjXNfvl-bc"
   ],
   "name": "Copie de MatPlotLib.ipynb",
   "provenance": [],
   "toc_visible": true
  },
  "kernelspec": {
   "display_name": "Python 3",
   "language": "python",
   "name": "python3"
  },
  "language_info": {
   "codemirror_mode": {
    "name": "ipython",
    "version": 3
   },
   "file_extension": ".py",
   "mimetype": "text/x-python",
   "name": "python",
   "nbconvert_exporter": "python",
   "pygments_lexer": "ipython3",
   "version": "3.9.1"
  }
 },
 "nbformat": 4,
 "nbformat_minor": 4
}
