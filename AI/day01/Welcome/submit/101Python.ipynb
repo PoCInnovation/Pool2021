{
 "cells": [
  {
   "cell_type": "markdown",
   "metadata": {
    "id": "EOEbxPgFY556"
   },
   "source": [
    "# Python Basics\n",
    "\n",
    "Python est un langage général et multi-paradigme, utilisé notamment par les Data Scientists et les développeurs de nombreux domaines, qui facilite la collaboration et l'apprentissage grâce à sa syntaxe simple. Ce language est très utilisée dans les mondes de la recherche univeritaire et des mathématiques.\n",
    " \n",
    "Nous n'allons voir que les bases de Python. Ce langage est vaste, et si vous avez besoin d'une fonctionnalité précise vous aurez à aller chercher par vous même comment faire. Cette introduction a pour but de vous faire découvrir la syntaxe et les notions les plus importantes du langage."
   ]
  },
  {
   "cell_type": "markdown",
   "metadata": {
    "id": "r0I76NY2Y558"
   },
   "source": [
    "## Structures de contrôle et affichage\n",
    "\n",
    "En Python, comme dans tous les langages de programmations, nous pouvons répéter plusieurs fois du code à l'aide d'une boucle `for`.\n",
    "\n",
    "Nous pouvons aussi exécuter du code que si une condition est vraie grâce à un `if`.\n",
    "\n",
    "Nous pouvons aussi afficher du texte ou des valeures avec la fonction `print()`.\n",
    "\n",
    "Dans l'exemple suivant, nous avons déclaré un tableau, sur lequel nous itérons grâce à notre boucle. À vous de comprendre ce que fait cet exemple. (Appelez un encadrant en cas de problème)."
   ]
  },
  {
   "cell_type": "code",
   "execution_count": null,
   "metadata": {
    "id": "LkhTPGg2Y558"
   },
   "outputs": [],
   "source": [
    "listOfNumbers = [1, 2, 3, 4, 5, 6]\n",
    "\n",
    "for number in listOfNumbers:\n",
    "    print(number)\n",
    "    if number % 2 == 0:\n",
    "        print(\"is even\")\n",
    "    else:\n",
    "        print(\"is odd\")\n",
    "        \n",
    "print(\"All done.\")   "
   ]
  },
  {
   "cell_type": "markdown",
   "metadata": {
    "id": "CdQ7pBatY559"
   },
   "source": [
    "## Importation de Modules\n",
    "\n",
    "Durant la piscine nous allons utiliser des librairies python. Une librarie est une boite à outils dans laquelle sont stockés des fonctions ou d'autres objets Python que nous pouvons réutiliser. \n",
    "\n",
    "Dans l'exemple suivant nous utilisons la librairie `numpy`. Normalement vous l'avez déjà installée en suivant les instructions du README. Si ce n'est pas le cas suivez à nouveau les instructions du README, et n'hésitez pas à demander de l'aide."
   ]
  },
  {
   "cell_type": "code",
   "execution_count": null,
   "metadata": {
    "id": "GoO7M9MJY559"
   },
   "outputs": [],
   "source": [
    "import numpy as np\n",
    "\n",
    "A = np.random.normal(25.0, 5.0, 10)\n",
    "print(A)"
   ]
  },
  {
   "cell_type": "markdown",
   "metadata": {
    "id": "1d5EKmqvY55-"
   },
   "source": [
    "## Listes\n",
    "\n",
    "Vous avez déjà utilisé une liste dans le premier exemple. Voici des opérations que nous pouvons appliquer sur des listes ou des numpy array.\n",
    "\n",
    "Je vous invite a bien retenir le slicing avec l'opérateur `:`.\n",
    "\n",
    "C'est à vous de tester et comprendre ce que font les exemples ci-dessous.\n"
   ]
  },
  {
   "cell_type": "code",
   "execution_count": null,
   "metadata": {
    "id": "VVba6bG4Y55-"
   },
   "outputs": [],
   "source": [
    "x = [1, 2, 3, 4, 5, 6]\n",
    "print(len(x))"
   ]
  },
  {
   "cell_type": "code",
   "execution_count": null,
   "metadata": {
    "id": "Imar70XuY55-"
   },
   "outputs": [],
   "source": [
    "x[:3]"
   ]
  },
  {
   "cell_type": "code",
   "execution_count": null,
   "metadata": {
    "id": "GFJRyDb4Y55_"
   },
   "outputs": [],
   "source": [
    "x[3:]"
   ]
  },
  {
   "cell_type": "code",
   "execution_count": null,
   "metadata": {
    "id": "4mceWwNqY55_"
   },
   "outputs": [],
   "source": [
    "x[-2:]"
   ]
  },
  {
   "cell_type": "code",
   "execution_count": null,
   "metadata": {
    "id": "KoMJBSqsY56A"
   },
   "outputs": [],
   "source": [
    "x.extend([7,8])\n",
    "x"
   ]
  },
  {
   "cell_type": "code",
   "execution_count": null,
   "metadata": {
    "id": "AkvGFSxaY56A"
   },
   "outputs": [],
   "source": [
    "x.append(9)\n",
    "x"
   ]
  },
  {
   "cell_type": "code",
   "execution_count": null,
   "metadata": {
    "id": "LKQboA8rY56A"
   },
   "outputs": [],
   "source": [
    "y = [10, 11, 12]\n",
    "listOfLists = [x, y]\n",
    "listOfLists"
   ]
  },
  {
   "cell_type": "code",
   "execution_count": null,
   "metadata": {
    "id": "3BKON47PY56B"
   },
   "outputs": [],
   "source": [
    "y[1]"
   ]
  },
  {
   "cell_type": "code",
   "execution_count": null,
   "metadata": {
    "id": "IfOuVLnSY56B"
   },
   "outputs": [],
   "source": [
    "z = [3, 2, 1]\n",
    "z.sort()\n",
    "z"
   ]
  },
  {
   "cell_type": "code",
   "execution_count": null,
   "metadata": {
    "id": "Hi_saEHjY56B"
   },
   "outputs": [],
   "source": [
    "z.sort(reverse=True)\n",
    "z"
   ]
  },
  {
   "cell_type": "markdown",
   "metadata": {
    "id": "a_lKnoerY56C"
   },
   "source": [
    "## Tuples\n",
    "\n",
    "Un tuple est une liste immutable, qui se crée avec `()` au lieu de `[]`. Je vous invite à chercher ce que signifie le mot immutable si vous ne le connaissez pas.\n",
    "\n",
    "C'est à vous de tester et de comprendre ce que font les exemples ci-dessous."
   ]
  },
  {
   "cell_type": "code",
   "execution_count": null,
   "metadata": {
    "id": "E4SZXcuVY56C"
   },
   "outputs": [],
   "source": [
    "x = (1, 2, 3)\n",
    "len(x)"
   ]
  },
  {
   "cell_type": "code",
   "execution_count": null,
   "metadata": {
    "id": "T5NkTp-9Y56C"
   },
   "outputs": [],
   "source": [
    "y = (4, 5, 6)\n",
    "y[2]"
   ]
  },
  {
   "cell_type": "code",
   "execution_count": null,
   "metadata": {
    "id": "75YHKOJEY56C"
   },
   "outputs": [],
   "source": [
    "listOfTuples = [x, y]\n",
    "listOfTuples"
   ]
  },
  {
   "cell_type": "code",
   "execution_count": null,
   "metadata": {
    "id": "YDtWRMwqY56D"
   },
   "outputs": [],
   "source": [
    "(age, income) = \"32,120000\".split(',')\n",
    "print(age)\n",
    "print(income)"
   ]
  },
  {
   "cell_type": "markdown",
   "metadata": {
    "id": "SAQyD-0QY56D"
   },
   "source": [
    "## Dictionnaire \n",
    "\n",
    "Un dictionnaire est une liste de clés associées à des valeurs. Vous pouvez accéder à la valeur grâce à la clé de la même façon que vous pouvez accéder à un élement d'une liste à partir de sa position.\n",
    " \n",
    " \n",
    "C'est à vous de tester et comprendre ce que font les exemples ci-dessous. "
   ]
  },
  {
   "cell_type": "code",
   "execution_count": null,
   "metadata": {
    "id": "4pLjccjIY56D"
   },
   "outputs": [],
   "source": [
    "captains = {}\n",
    "captains[\"Enterprise\"] = \"Kirk\"\n",
    "captains[\"Enterprise D\"] = \"Picard\"\n",
    "captains[\"Deep Space Nine\"] = \"Sisko\"\n",
    "captains[\"Voyager\"] = \"Janeway\"\n",
    "\n",
    "print(captains[\"Voyager\"])"
   ]
  },
  {
   "cell_type": "code",
   "execution_count": null,
   "metadata": {
    "id": "WUcJIypwY56E"
   },
   "outputs": [],
   "source": [
    "print(captains.get(\"Enterprise\"))"
   ]
  },
  {
   "cell_type": "code",
   "execution_count": null,
   "metadata": {
    "id": "jEDSF9myY56E"
   },
   "outputs": [],
   "source": [
    "print(captains.get(\"NX-01\"))"
   ]
  },
  {
   "cell_type": "code",
   "execution_count": null,
   "metadata": {
    "id": "44fSPf0KY56E"
   },
   "outputs": [],
   "source": [
    "for ship in captains:\n",
    "    print(ship + \": \" + captains[ship])"
   ]
  },
  {
   "cell_type": "markdown",
   "metadata": {
    "id": "g9823bc6Y56E"
   },
   "source": [
    "## Fonctions\n",
    "\n",
    "Comme dans tout langage, vous pouvez créer vos propre fonctions en Python.\n",
    " \n",
    " \n",
    "C'est à vous de tester et comprendre ce que font les exemples ci-dessous. "
   ]
  },
  {
   "cell_type": "code",
   "execution_count": null,
   "metadata": {
    "id": "5QCLRRjuY56F"
   },
   "outputs": [],
   "source": [
    "def SquareIt(x):\n",
    "    return x * x\n",
    "\n",
    "print(SquareIt(2))\n"
   ]
  },
  {
   "cell_type": "code",
   "execution_count": null,
   "metadata": {
    "id": "RXDPh2RJY56F"
   },
   "outputs": [],
   "source": [
    "def DoSomething(f, x):\n",
    "    return f(x)\n",
    "\n",
    "print(DoSomething(SquareIt, 3))"
   ]
  },
  {
   "cell_type": "markdown",
   "metadata": {
    "id": "pG3-4_49UC_7"
   },
   "source": [
    "Une Lambda est une fonction sans nom qui ne contient qu'une seule expression. On peut la stocker dans une variable ou la passer en paramètre d'une autre fonction."
   ]
  },
  {
   "cell_type": "code",
   "execution_count": null,
   "metadata": {
    "id": "GJy4wMFGY56F"
   },
   "outputs": [],
   "source": [
    "print(DoSomething(lambda x: x * x * x, 3))"
   ]
  },
  {
   "cell_type": "markdown",
   "metadata": {
    "id": "NAXXhE4GY56G"
   },
   "source": [
    "## Expressions Booléennes\n",
    "\n",
    "C'est à vous de tester et comprendre ce que font les exemples ci-dessous."
   ]
  },
  {
   "cell_type": "code",
   "execution_count": null,
   "metadata": {
    "id": "28kIdO4rY56G"
   },
   "outputs": [],
   "source": [
    "print(1 == 3)"
   ]
  },
  {
   "cell_type": "code",
   "execution_count": null,
   "metadata": {
    "id": "vWPxc9sjY56G"
   },
   "outputs": [],
   "source": [
    "print(True or False)"
   ]
  },
  {
   "cell_type": "code",
   "execution_count": null,
   "metadata": {
    "id": "p27KcDpNY56G"
   },
   "outputs": [],
   "source": [
    "a = []\n",
    "b = []\n",
    "print(a is b)"
   ]
  },
  {
   "cell_type": "code",
   "execution_count": null,
   "metadata": {
    "id": "UaluAL0zY56H"
   },
   "outputs": [],
   "source": [
    "if 1 == 3:\n",
    "    print(\"How did that happen?\")\n",
    "elif 1 > 3:\n",
    "    print(\"Yikes\")\n",
    "else:\n",
    "    print(\"All is well with the world\")"
   ]
  },
  {
   "cell_type": "markdown",
   "metadata": {
    "id": "Wa3c58VfUupA"
   },
   "source": [
    "# Les Classes\n",
    "\n",
    "La notion des classes et de la programmation orientée objet est vaste et importante dans de nombreux languages de programmation. Ce n'est pas l'objet principale de cette piscine, mais nous en aurons besoin quelques fois, donc nous en faisons une petite introduction.  \n",
    "\n",
    "Si nous vulgarisons la notion, une classe est une sorte de moule. Avec un moule nous pouvons répliquer plusieurs fois la même chose. Et bien avec une classe c'est pareil : nous pouvons créer ce qu'on appelle des objets. On peut par exemple avoir une classe `Peluche` qui crée des objet de type `Peluche`. La class est le moule et la peluche est l'objet créé à partir du moule.\n",
    "\n",
    "À vous de comprendre le code ci-dessous (Demandez de l'aide si besoin)."
   ]
  },
  {
   "cell_type": "markdown",
   "metadata": {},
   "source": [
    "Nous commençons d'abord par décrire la classe (les caractéristiques du moule) :"
   ]
  },
  {
   "cell_type": "code",
   "execution_count": null,
   "metadata": {
    "id": "btdFRs3kxShZ"
   },
   "outputs": [],
   "source": [
    "class Peluche:\n",
    "    '''This is a docstring. You may search what it does'''\n",
    "    def __init__(self, name, color):\n",
    "      self.name = name\n",
    "      self.color = color\n",
    "\n",
    "    def sayHello(self):\n",
    "        print(f\"Hello my name is {self.name} and I'm {self.color}\")\n",
    "\n",
    "\n",
    "# Output: <function Person.greet>\n",
    "print(Peluche.sayHello)\n",
    "print(Peluche.__doc__)"
   ]
  },
  {
   "cell_type": "markdown",
   "metadata": {
    "id": "4zcwToZowsF2"
   },
   "source": [
    "Nous pouvons maintenant créer des peluches à partir de cette classe :"
   ]
  },
  {
   "cell_type": "code",
   "execution_count": null,
   "metadata": {
    "id": "Aj0SUvpKtyc_"
   },
   "outputs": [],
   "source": [
    "peluche1 = Peluche(\"Pokemon\", \"Yellow\")\n",
    "peluche2 = Peluche(\"Dofus Kawote\", \"Orange\")\n",
    "\n",
    "peluche1.sayHello()\n",
    "peluche2.sayHello()"
   ]
  },
  {
   "cell_type": "markdown",
   "metadata": {
    "id": "rVx6SurEY56I"
   },
   "source": [
    "## Exercice "
   ]
  },
  {
   "cell_type": "markdown",
   "metadata": {
    "id": "lUAzlLBBY56I"
   },
   "source": [
    "Définissez une classe `Neurone`. Cette classe prend en paramètre un nombre représentant la taille maximum des informations que ce neurone peut traiter.\n",
    "\n",
    "Créez une méthode `isPair()` dans la class `Neurone` qui prend en paramètre une liste de nombres. Si la liste de nombre dépasse la taille maximum des informations que le neurone peut traiter, vous devez afficher *\"Liste trop volumineuse\"*, sinon vous devez parcourir toute la liste et afficher *\"Pair\"* si le nombre est pair sinon *\"Impair\"*.\n"
   ]
  },
  {
   "cell_type": "code",
   "execution_count": null,
   "metadata": {
    "id": "eYLC-zcKY56I"
   },
   "outputs": [],
   "source": []
  }
 ],
 "metadata": {
  "colab": {
   "collapsed_sections": [],
   "name": "101Python.ipynb",
   "provenance": []
  },
  "kernelspec": {
   "display_name": "Python 3",
   "language": "python",
   "name": "python3"
  },
  "language_info": {
   "codemirror_mode": {
    "name": "ipython",
    "version": 3
   },
   "file_extension": ".py",
   "mimetype": "text/x-python",
   "name": "python",
   "nbconvert_exporter": "python",
   "pygments_lexer": "ipython3",
   "version": "3.9.1"
  }
 },
 "nbformat": 4,
 "nbformat_minor": 4
}
