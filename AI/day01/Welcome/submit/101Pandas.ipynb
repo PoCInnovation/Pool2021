{
 "cells": [
  {
   "cell_type": "markdown",
   "metadata": {
    "id": "eh6dV4UY8z8V"
   },
   "source": [
    "# Introduction à Pandas\n",
    "\n",
    "Pandas est une lib python massivement utilisée dans l'analyse de données. En gros c'est la maison de vos données. Grâce a pandas, vous vous familiariserez avec vos données en les nettoyant, en les transformant et en les analysant.\n",
    "\n",
    "Par exemple, supposons que vous souhaitiez explorer un ensemble de données stocké dans un fichier CSV sur votre ordinateur. Pandas extraira les données de ce CSV dans un DataFrame (une feuille de calcul Excel en gros), puis vous permettra d'exécuter des actions, de calculer des statisques, ou de répondre à des question sur vos données, tels que :\n",
    "\n",
    "* Quelles sont la moyenne, la médiane, le maximum ou le minimum de chaque colonne ?\n",
    "* La colonne A est-elle corrélée avec la colonne B ?\n",
    "* À quoi ressemble la distribution des données dans la colonne C ?\n",
    "* Nettoyer les données en supprimant les valeurs manquantes et en filtrant les lignes ou les colonnes selon certains critères.\n",
    "* Visualiser les données avec l'aide de Matplotlib : tracer des barres, des lignes, des histogrammes, des bulles, etc.\n",
    "* Stocker les données nettoyées et transformées dans un CSV, un autre fichier ou une base de données"
   ]
  },
  {
   "cell_type": "markdown",
   "metadata": {},
   "source": [
    "# Récupérer les données\n",
    "\n",
    "Vous pouvez télécharger le fichier CSV sur [Kaggle](https://www.kaggle.com/datasnaek/youtube-new?select=FR_category_id.json) ou sur notre [repo](https://github.com/AI-Pools/DATA-REPO/raw/master/data_welcome/FRvideos.csv).\n",
    "\n",
    "Remplacez ensuite le chemin dans le bloc de code ci-dessous par le chemin du dataset sur votre PC."
   ]
  },
  {
   "cell_type": "code",
   "execution_count": null,
   "metadata": {
    "id": "l_6LzPCB8z8Y"
   },
   "outputs": [],
   "source": [
    "%matplotlib inline\n",
    "import numpy as np\n",
    "import pandas as pd\n",
    "\n",
    "df = pd.read_csv(\"FRvideos.csv\", error_bad_lines=False)"
   ]
  },
  {
   "cell_type": "markdown",
   "metadata": {
    "id": "Jo9t43mQ8z8Z"
   },
   "source": [
    "head () est un moyen pratique de visualiser ce que vous avez chargé. Vous pouvez lui passer le nombre spécifique de lignes au début de votre DataFrame que vous souhaitez visualiser "
   ]
  },
  {
   "cell_type": "code",
   "execution_count": null,
   "metadata": {
    "id": "QCBKta6a8z8Z"
   },
   "outputs": [],
   "source": [
    "df.head(10)"
   ]
  },
  {
   "cell_type": "markdown",
   "metadata": {
    "id": "R2ikAHti8z8a"
   },
   "source": [
    "J'imagine que vous comprenez à quoi sert son inverse `tail()`"
   ]
  },
  {
   "cell_type": "code",
   "execution_count": null,
   "metadata": {
    "id": "XtY7c0RG8z8a"
   },
   "outputs": [],
   "source": [
    "df.tail(4)"
   ]
  },
  {
   "cell_type": "markdown",
   "metadata": {
    "id": "Yf1h3FJx8z8a"
   },
   "source": [
    "On parle souvent de la \"forme\" de votre DataFrame. Ce ne sont que ses dimensions (Combien de lignes et combien de colonnes dans le cas d'un excel à 2 dimensions)."
   ]
  },
  {
   "cell_type": "code",
   "execution_count": null,
   "metadata": {
    "id": "g8IYvuXB8z8b"
   },
   "outputs": [],
   "source": [
    "df.shape"
   ]
  },
  {
   "cell_type": "markdown",
   "metadata": {
    "id": "dY-quApn8z8b"
   },
   "source": [
    "La taille totale du DataFrame correspond aux lignes * colonnes."
   ]
  },
  {
   "cell_type": "code",
   "execution_count": null,
   "metadata": {
    "id": "OpTIWQCW8z8b"
   },
   "outputs": [],
   "source": [
    "df.size"
   ]
  },
  {
   "cell_type": "markdown",
   "metadata": {
    "id": "WdKLDhH58z8c"
   },
   "source": [
    "La fonction len () vous donne le nombre de lignes dans un DataFrame."
   ]
  },
  {
   "cell_type": "code",
   "execution_count": null,
   "metadata": {
    "id": "vZ2ozm_b8z8c"
   },
   "outputs": [],
   "source": [
    "len(df)"
   ]
  },
  {
   "cell_type": "markdown",
   "metadata": {
    "id": "nHpu7Bok8z8c"
   },
   "source": [
    "Si votre DataFrame a des colonnes nommées vous pouvez en récupérer un tableau."
   ]
  },
  {
   "cell_type": "code",
   "execution_count": null,
   "metadata": {
    "id": "_J4srHOZ8z8d"
   },
   "outputs": [],
   "source": [
    "df.columns"
   ]
  },
  {
   "cell_type": "markdown",
   "metadata": {
    "id": "keil3cQG8z8d"
   },
   "source": [
    "Vous pouvez extraire une seule colonne de votre DataFrame comme ceci. Cela vous renvoie une \"Série\" qui représente une seul colonne d'un DataFrame dans Pandas."
   ]
  },
  {
   "cell_type": "code",
   "execution_count": null,
   "metadata": {
    "id": "6DdGyQ0L8z8d"
   },
   "outputs": [],
   "source": [
    "df['title']"
   ]
  },
  {
   "cell_type": "markdown",
   "metadata": {
    "id": "IlXqYbtD8z8e"
   },
   "source": [
    "Vous pouvez également extraire une plage de lignes d'une colonne comme ceci. (Renseignez vous sur le slicing en python)."
   ]
  },
  {
   "cell_type": "code",
   "execution_count": null,
   "metadata": {
    "id": "N8U5ZdZF8z8e"
   },
   "outputs": [],
   "source": [
    "df['title'][:5]"
   ]
  },
  {
   "cell_type": "markdown",
   "metadata": {
    "id": "74Q847dd8z8f"
   },
   "source": [
    "Vous pouvez extraire une valeur unique en précisant à la fois la colonne et la ligne."
   ]
  },
  {
   "cell_type": "code",
   "execution_count": null,
   "metadata": {
    "id": "u3Neaa5j8z8f"
   },
   "outputs": [],
   "source": [
    "df['title'][5]"
   ]
  },
  {
   "cell_type": "markdown",
   "metadata": {
    "id": "JHRL3lQ-8z8f"
   },
   "source": [
    "Pour extraire plusieurs colonnes, il suffit de donner un tableau de noms de colonnes au lieu d'un seul nom."
   ]
  },
  {
   "cell_type": "code",
   "execution_count": null,
   "metadata": {
    "id": "QCuVCWqx8z8g"
   },
   "outputs": [],
   "source": [
    "df[['title', 'views']]"
   ]
  },
  {
   "cell_type": "markdown",
   "metadata": {
    "id": "UvQZV4-b8z8g"
   },
   "source": [
    "À vous de deviner ce que fait ce slicing. Appelez un Encadrant quand vous aurez trouvé."
   ]
  },
  {
   "cell_type": "code",
   "execution_count": null,
   "metadata": {
    "id": "yZC_kbnk8z8h"
   },
   "outputs": [],
   "source": [
    "df[['title', 'views']][:5]"
   ]
  },
  {
   "cell_type": "markdown",
   "metadata": {
    "id": "nHY17Fl18z8h"
   },
   "source": [
    "Vous pouvez trier votre DataFrame selon une colonne spécifique comme ceci."
   ]
  },
  {
   "cell_type": "code",
   "execution_count": null,
   "metadata": {
    "id": "EarYNp3-8z8h"
   },
   "outputs": [],
   "source": [
    "df.sort_values(['likes'])"
   ]
  },
  {
   "cell_type": "markdown",
   "metadata": {
    "id": "ZLhpO1jr8z8h"
   },
   "source": [
    "À vous de deviner ce que fait ce code. Appelez un encadrant quand vous aurez trouvé."
   ]
  },
  {
   "cell_type": "code",
   "execution_count": null,
   "metadata": {
    "id": "l8tuccJt8z8i"
   },
   "outputs": [],
   "source": [
    "degree_counts = df['comments_disabled'].value_counts()\n",
    "degree_counts"
   ]
  },
  {
   "cell_type": "markdown",
   "metadata": {
    "id": "on-_6kxL8z8i"
   },
   "source": [
    "Vous pouvez afficher vos résultats sous forme de diagramme grâce a matplotlib."
   ]
  },
  {
   "cell_type": "code",
   "execution_count": null,
   "metadata": {
    "id": "HTi2osaQ8z8i"
   },
   "outputs": [],
   "source": [
    "degree_counts.plot(kind='bar')"
   ]
  },
  {
   "cell_type": "markdown",
   "metadata": {
    "id": "ZLUIdmzh8z8i"
   },
   "source": [
    "## Exercise\n",
    "\n",
    "Essayez d'extraire les lignes 500 à 1000 de notre DataFrame, en ne conservant que les colonnes \"likes\" et \"views\".\n",
    "Stockez les dans une variable et calculez la corrélation entre les deux colonnes."
   ]
  },
  {
   "cell_type": "code",
   "execution_count": null,
   "metadata": {},
   "outputs": [],
   "source": []
  }
 ],
 "metadata": {
  "colab": {
   "collapsed_sections": [],
   "name": "Copie de PandasTutorial.ipynb",
   "provenance": []
  },
  "kernelspec": {
   "display_name": "Python 3",
   "language": "python",
   "name": "python3"
  },
  "language_info": {
   "codemirror_mode": {
    "name": "ipython",
    "version": 3
   },
   "file_extension": ".py",
   "mimetype": "text/x-python",
   "name": "python",
   "nbconvert_exporter": "python",
   "pygments_lexer": "ipython3",
   "version": "3.9.1"
  }
 },
 "nbformat": 4,
 "nbformat_minor": 4
}
