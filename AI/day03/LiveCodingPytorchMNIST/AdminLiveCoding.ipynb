{
 "cells": [
  {
   "cell_type": "markdown",
   "metadata": {},
   "source": [
    "# Live cofing: Pytorch MNIST\n",
    "\n",
    "### Importing packages"
   ]
  },
  {
   "cell_type": "code",
   "execution_count": 1,
   "metadata": {},
   "outputs": [
    {
     "name": "stderr",
     "output_type": "stream",
     "text": [
      "/home/thytu/.local/lib/python3.8/site-packages/torch/cuda/__init__.py:52: UserWarning: CUDA initialization: Found no NVIDIA driver on your system. Please check that you have an NVIDIA GPU and installed a driver from http://www.nvidia.com/Download/index.aspx (Triggered internally at  /pytorch/c10/cuda/CUDAFunctions.cpp:100.)\n",
      "  return torch._C._cuda_getDeviceCount() > 0\n"
     ]
    }
   ],
   "source": [
    "import torch\n",
    "import torchvision\n",
    "import torch.nn as nn\n",
    "import torch.optim as optim\n",
    "import torch.nn.functional as F\n",
    "import matplotlib.pyplot as plt\n",
    "\n",
    "from torch.autograd import Variable\n",
    "from torchvision import datasets, transforms\n",
    "\n",
    "device = torch.device('cuda') if torch.cuda.is_available() else torch.device('cpu')"
   ]
  },
  {
   "cell_type": "markdown",
   "metadata": {},
   "source": [
    "### Creating our network"
   ]
  },
  {
   "cell_type": "code",
   "execution_count": 2,
   "metadata": {},
   "outputs": [],
   "source": [
    "class Network(nn.Module):\n",
    "  def __init__(self):\n",
    "    super().__init__()\n",
    "    # kernel_size == size of the filter\n",
    "    # out_channels == number of filters\n",
    "    self.conv1 = nn.Conv2d(in_channels=1, out_channels=6, kernel_size=5)\n",
    "    self.conv2 = nn.Conv2d(in_channels=6, out_channels=12, kernel_size=5)\n",
    "    \n",
    "    self.fc1 = nn.Linear(in_features=12*4*4, out_features=120)\n",
    "    self.fc2 = nn.Linear(in_features=120, out_features=60)\n",
    "    self.out = nn.Linear(in_features=60, out_features=10)\n",
    "    \n",
    "  def forward(self, t):\n",
    "    t = self.conv1(t)\n",
    "    t = F.relu(t)\n",
    "    t = F.max_pool2d(t, kernel_size=2, stride=2)\n",
    "    \n",
    "    t = self.conv2(t)\n",
    "    t = F.relu(t)\n",
    "    t = F.max_pool2d(t, kernel_size=2, stride=2)\n",
    "\n",
    "    t = t.reshape(-1, 12 * 4 * 4) # the 4 * 4 is the height and width of the input channel\n",
    "    t = self.fc1(t)\n",
    "    t = F.relu(t)\n",
    "    \n",
    "    t = self.fc2(t)\n",
    "    t = F.relu(t)\n",
    "    \n",
    "    t = self.out(t)\n",
    "    # t = F.softmax(t, dim=1) with Cross Entropy loss function don't need softmax beacause LCE already do it\n",
    "    \n",
    "    return t\n",
    "    "
   ]
  },
  {
   "cell_type": "markdown",
   "metadata": {},
   "source": [
    "## CNN output size formula (square)\n",
    "- we have an $n * n$ input\n",
    "- we have an $f * f$ filter\n",
    "- we have a padding $p$\n",
    "- we have a filter $f$\n",
    "- we have an output size $O$\n",
    "\n",
    "## $O = \\frac{n - f +2p}{s} + 1$\n",
    "\n",
    "\n",
    "**28 -> $\\frac{28 - 5 +2*0}{1} + 1$ -> 24**<br>\n",
    "[1, 1, 28, 28] -> conv1 -> [1, 6, 24, 24]\n",
    "\n",
    "**28 -> $\\frac{24 - 2 +2*0}{2} + 1$ -> 12**<br>\n",
    "[1, 6, 24, 24] -> maxpool2d(2 * 2) -> [1, 6, 12, 12]\n",
    "\n",
    "**28 -> $\\frac{12 - 5 +2*0}{1} + 1$ -> 8**<br>\n",
    "[1, 6, 12, 12] -> conv2 -> [1, 12, 8, 8]\n",
    "\n",
    "**28 -> $\\frac{8 - 2 +2*0}{2} + 1$ -> 4**<br>\n",
    "inp[1, 12, 8, 8]ut -> maxpool2d(2 * 2) -> [1, 12, 4, 4]\n",
    "\n",
    "## CNN output size formula (non square)\n",
    "- we have an $Nh * Nw$ input\n",
    "- we have an $Fh * Fw$ filter\n",
    "- we have a padding $p$\n",
    "- we have a filter $f$\n",
    "- we have an output size $O$\n",
    "\n",
    "## $Oh = \\frac{Nh - Fh +2p}{s} + 1$\n",
    "## $Ow = \\frac{Nw - Fw +2p}{s} + 1$"
   ]
  },
  {
   "cell_type": "markdown",
   "metadata": {},
   "source": [
    "### Let's take a look at our network"
   ]
  },
  {
   "cell_type": "code",
   "execution_count": 3,
   "metadata": {},
   "outputs": [
    {
     "name": "stdout",
     "output_type": "stream",
     "text": [
      "Network(\n",
      "  (conv1): Conv2d(1, 6, kernel_size=(5, 5), stride=(1, 1))\n",
      "  (conv2): Conv2d(6, 12, kernel_size=(5, 5), stride=(1, 1))\n",
      "  (fc1): Linear(in_features=192, out_features=120, bias=True)\n",
      "  (fc2): Linear(in_features=120, out_features=60, bias=True)\n",
      "  (out): Linear(in_features=60, out_features=10, bias=True)\n",
      ")\n",
      "torch.Size([6, 1, 5, 5])\n",
      "torch.Size([10, 60])\n"
     ]
    }
   ],
   "source": [
    "network = Network().to(device)\n",
    "\n",
    "print(network)\n",
    "\n",
    "print(network.conv1.weight.shape)\n",
    "print(network.out.weight.shape)"
   ]
  },
  {
   "cell_type": "markdown",
   "metadata": {},
   "source": [
    "### Downloading our dataset"
   ]
  },
  {
   "cell_type": "code",
   "execution_count": 4,
   "metadata": {},
   "outputs": [],
   "source": [
    "train_set = torchvision.datasets.FashionMNIST(\n",
    "  root=\"./data/FashionMNIST\",\n",
    "  train=True,\n",
    "  download=True,\n",
    "  transform=transforms.Compose([\n",
    "    transforms.ToTensor()\n",
    "  ])\n",
    ")\n",
    "\n",
    "test_set = torchvision.datasets.FashionMNIST(\n",
    "  root=\"./data/FashionMNIST\",\n",
    "  train=False,\n",
    "  download=True,\n",
    "  transform=transforms.Compose([\n",
    "    transforms.ToTensor()\n",
    "  ])\n",
    ")"
   ]
  },
  {
   "cell_type": "markdown",
   "metadata": {},
   "source": [
    "### Let's take a look at our sample"
   ]
  },
  {
   "cell_type": "code",
   "execution_count": 5,
   "metadata": {},
   "outputs": [
    {
     "data": {
      "text/plain": [
       "torch.Size([1, 28, 28])"
      ]
     },
     "execution_count": 5,
     "metadata": {},
     "output_type": "execute_result"
    }
   ],
   "source": [
    "sample = next(iter(train_set))\n",
    "image, label = sample\n",
    "image.shape"
   ]
  },
  {
   "cell_type": "markdown",
   "metadata": {},
   "source": [
    "### Displaying a sample"
   ]
  },
  {
   "cell_type": "code",
   "execution_count": 6,
   "metadata": {},
   "outputs": [
    {
     "data": {
      "image/png": "[encoded data removed]",
      "text/plain": [
       "<Figure size 432x288 with 6 Axes>"
      ]
     },
     "execution_count": 6,
     "metadata": {},
     "output_type": "execute_result"
    },
    {
     "data": {
      "image/png": "[encoded data removed]",
      "text/plain": [
       "<Figure size 432x288 with 6 Axes>"
      ]
     },
     "metadata": {},
     "output_type": "display_data"
    }
   ],
   "source": [
    "fig = plt.figure()\n",
    "for i in range(6):\n",
    "  plt.subplot(2,3,i+1)\n",
    "  plt.tight_layout()\n",
    "  plt.imshow(train_set[i][0].reshape(28, 28, 1), cmap='gray', interpolation='none')\n",
    "  plt.xticks([])\n",
    "  plt.yticks([])\n",
    "fig"
   ]
  },
  {
   "cell_type": "markdown",
   "metadata": {},
   "source": [
    "### Creating a batch of size 1"
   ]
  },
  {
   "cell_type": "code",
   "execution_count": 7,
   "metadata": {},
   "outputs": [
    {
     "data": {
      "text/plain": [
       "torch.Size([1, 1, 28, 28])"
      ]
     },
     "execution_count": 7,
     "metadata": {},
     "output_type": "execute_result"
    }
   ],
   "source": [
    "image.unsqueeze(0).shape"
   ]
  },
  {
   "cell_type": "markdown",
   "metadata": {},
   "source": [
    "### Making our first prediction"
   ]
  },
  {
   "cell_type": "code",
   "execution_count": 8,
   "metadata": {},
   "outputs": [
    {
     "name": "stdout",
     "output_type": "stream",
     "text": [
      "torch.Size([1, 10])\n",
      "tensor([[ 0.0901,  0.0695,  0.1632,  0.0876,  0.1009, -0.1131, -0.0179, -0.0681,\n",
      "         -0.0973, -0.0959]], grad_fn=<AddmmBackward>)\n",
      "prediction:tensor([2]) label:9\n"
     ]
    }
   ],
   "source": [
    "prediction = network(image.unsqueeze(0))\n",
    "\n",
    "print(prediction.shape)\n",
    "print(prediction)\n",
    "print(f\"prediction:{prediction.argmax(dim=1)} label:{label}\")"
   ]
  },
  {
   "cell_type": "markdown",
   "metadata": {},
   "source": [
    "### Creating our loader"
   ]
  },
  {
   "cell_type": "code",
   "execution_count": 9,
   "metadata": {},
   "outputs": [],
   "source": [
    "train_loader = torch.utils.data.DataLoader(train_set, batch_size=64)\n",
    "test_loader = torch.utils.data.DataLoader(test_set, batch_size=64)"
   ]
  },
  {
   "cell_type": "markdown",
   "metadata": {},
   "source": [
    "### Let's take a look at our sample"
   ]
  },
  {
   "cell_type": "code",
   "execution_count": 10,
   "metadata": {},
   "outputs": [
    {
     "data": {
      "text/plain": [
       "torch.Size([64, 1, 28, 28])"
      ]
     },
     "execution_count": 10,
     "metadata": {},
     "output_type": "execute_result"
    }
   ],
   "source": [
    "images, labels = next(iter(train_loader))\n",
    "images.shape"
   ]
  },
  {
   "cell_type": "markdown",
   "metadata": {},
   "source": [
    "### Let's take a look at our predictions"
   ]
  },
  {
   "cell_type": "code",
   "execution_count": 11,
   "metadata": {},
   "outputs": [
    {
     "name": "stdout",
     "output_type": "stream",
     "text": [
      "torch.Size([1, 10])\n"
     ]
    }
   ],
   "source": [
    "predictions = network(images)\n",
    "print(prediction.shape)"
   ]
  },
  {
   "cell_type": "markdown",
   "metadata": {},
   "source": [
    "### Creating get_num_correct()"
   ]
  },
  {
   "cell_type": "code",
   "execution_count": 12,
   "metadata": {},
   "outputs": [
    {
     "data": {
      "text/plain": [
       "7"
      ]
     },
     "execution_count": 12,
     "metadata": {},
     "output_type": "execute_result"
    }
   ],
   "source": [
    "def get_num_correct(preds, labels):\n",
    "  return preds.argmax(dim=1).eq(labels).sum().item()\n",
    "\n",
    "get_num_correct(predictions, labels)"
   ]
  },
  {
   "cell_type": "markdown",
   "metadata": {},
   "source": [
    "### Let's go a bit further"
   ]
  },
  {
   "cell_type": "code",
   "execution_count": 13,
   "metadata": {},
   "outputs": [
    {
     "name": "stdout",
     "output_type": "stream",
     "text": [
      "2.2996673583984375\n",
      "tensor([[ 0.0000e+00,  1.3269e-05,  5.6684e-07,  ...,  0.0000e+00,\n",
      "          0.0000e+00,  1.8764e-05],\n",
      "        [ 0.0000e+00,  0.0000e+00,  0.0000e+00,  ...,  0.0000e+00,\n",
      "          0.0000e+00,  0.0000e+00],\n",
      "        [-1.0900e-04, -3.5326e-05, -4.8333e-05,  ..., -5.3494e-04,\n",
      "         -4.2395e-04, -4.5462e-04],\n",
      "        ...,\n",
      "        [-1.6577e-04, -4.3670e-05,  8.5731e-06,  ...,  4.2824e-04,\n",
      "          1.2356e-05,  1.8318e-04],\n",
      "        [ 1.2508e-05,  6.1037e-06,  5.9936e-06,  ...,  1.5294e-04,\n",
      "          1.5144e-04,  1.7504e-04],\n",
      "        [-4.2968e-05, -5.5090e-05, -1.3621e-05,  ..., -4.1280e-04,\n",
      "         -3.5609e-04, -3.7479e-04]])\n"
     ]
    }
   ],
   "source": [
    "loss = F.cross_entropy(predictions, labels)\n",
    "\n",
    "print(loss.item())\n",
    "loss.backward() # calculating the gradient\n",
    "print(network.fc1.weight.grad)"
   ]
  },
  {
   "cell_type": "markdown",
   "metadata": {},
   "source": [
    "### Our optimizer ?"
   ]
  },
  {
   "cell_type": "code",
   "execution_count": 14,
   "metadata": {},
   "outputs": [],
   "source": [
    "optimizer = optim.Adam(network.parameters(), lr=0.01)\n",
    "optimizer.step()"
   ]
  },
  {
   "cell_type": "markdown",
   "metadata": {},
   "source": [
    "### How can we train our model ?"
   ]
  },
  {
   "cell_type": "code",
   "execution_count": 15,
   "metadata": {},
   "outputs": [
    {
     "name": "stdout",
     "output_type": "stream",
     "text": [
      "10\n",
      "2.2445404529571533\n"
     ]
    }
   ],
   "source": [
    "predictions = network(images)\n",
    "print(get_num_correct(predictions, labels))\n",
    "\n",
    "loss = F.cross_entropy(predictions, labels)\n",
    "EPOCHS = 5\n",
    "LEARNING_RATE = 0.01\n",
    "BATCH_SIZE = 64\n",
    "\n",
    "network = Network().to(device)\n",
    "\n",
    "train_loader = torch.utils.data.DataLoader(train_set, batch_size=BATCH_SIZE)\n",
    "optimizer = optim.Adam(network.parameters(), lr=LEARNING_RATE)\n",
    "\n",
    "print(loss.item())"
   ]
  },
  {
   "cell_type": "markdown",
   "metadata": {},
   "source": [
    "### Let's put it all together"
   ]
  },
  {
   "cell_type": "code",
   "execution_count": 16,
   "metadata": {},
   "outputs": [],
   "source": [
    "EPOCHS = 5\n",
    "LEARNING_RATE = 0.01\n",
    "BATCH_SIZE = 64\n",
    "\n",
    "network = Network().to(device)\n",
    "\n",
    "train_loader = torch.utils.data.DataLoader(train_set, batch_size=BATCH_SIZE)\n",
    "optimizer = optim.Adam(network.parameters(), lr=LEARNING_RATE)\n",
    "\n",
    "TRAINING_SIZE = len(iter(train_loader)) * BATCH_SIZE\n",
    "TESTING_SIZE = len(iter(test_loader)) * BATCH_SIZE\n",
    "\n",
    "\n",
    "training_losses = []\n",
    "training_accuracies = []\n",
    "\n",
    "testing_losses = []\n",
    "testing_accuracies = []\n",
    "\n",
    "def train():\n",
    "  network.train()\n",
    "  correct_in_episode = 0\n",
    "  episode_loss = 0\n",
    "  \n",
    "  for batch in train_loader:\n",
    "    images, labels = batch\n",
    "    \n",
    "    predictions = network(images)\n",
    "    loss = F.cross_entropy(predictions, labels)\n",
    "    \n",
    "    optimizer.zero_grad()\n",
    "    loss.backward()\n",
    "    optimizer.step()\n",
    "    \n",
    "    episode_loss += loss.item()\n",
    "    correct_in_episode += get_num_correct(predictions, labels)\n",
    "\n",
    "  training_losses.append(episode_loss)\n",
    "  training_accuracies.append(correct_in_episode * 100 / TRAINING_SIZE)\n",
    "  print(f\"Epoch: {epoch + 1} accuracy: {correct_in_episode * 100 / TRAINING_SIZE:.2f} loss: {episode_loss:.3f}\", end=\"\\t\")\n",
    "  \n",
    "def test():\n",
    "  network.eval()\n",
    "  episode_loss = 0\n",
    "  correct_in_episode = 0\n",
    "  \n",
    "  with torch.no_grad():\n",
    "    for batch in test_loader:\n",
    "      images, labels = batch\n",
    "\n",
    "      predictions = network(images)\n",
    "      loss = F.cross_entropy(predictions, labels)\n",
    "\n",
    "      episode_loss = loss.item()\n",
    "      correct_in_episode += get_num_correct(predictions, labels)\n",
    "  \n",
    "  testing_losses.append(episode_loss)\n",
    "  testing_accuracies.append(correct_in_episode * 100 / TESTING_SIZE)\n",
    "  print(f'Validation: Accuracy: {correct_in_episode * 100 / TESTING_SIZE:.2f} loss: {episode_loss:.3f}')"
   ]
  },
  {
   "cell_type": "markdown",
   "metadata": {},
   "source": [
    "### It's time to train our model !"
   ]
  },
  {
   "cell_type": "code",
   "execution_count": 17,
   "metadata": {},
   "outputs": [
    {
     "name": "stdout",
     "output_type": "stream",
     "text": [
      "Epoch: 1 accuracy: 79.12 loss: 521.604\tValidation: Accuracy: 82.22 loss: 0.247\n",
      "Epoch: 2 accuracy: 85.34 loss: 372.905\tValidation: Accuracy: 84.09 loss: 0.458\n",
      "Epoch: 3 accuracy: 86.28 loss: 345.662\tValidation: Accuracy: 84.64 loss: 0.305\n",
      "Epoch: 4 accuracy: 86.89 loss: 333.213\tValidation: Accuracy: 84.88 loss: 0.272\n",
      "Epoch: 5 accuracy: 87.44 loss: 321.035\tValidation: Accuracy: 84.84 loss: 0.243\n"
     ]
    }
   ],
   "source": [
    "for epoch in range(EPOCHS):\n",
    "  train()\n",
    "  test()"
   ]
  },
  {
   "cell_type": "markdown",
   "metadata": {},
   "source": [
    "### Evolution of the loss"
   ]
  },
  {
   "cell_type": "code",
   "execution_count": 18,
   "metadata": {},
   "outputs": [
    {
     "data": {
      "text/plain": [
       "Text(0, 0.5, 'Loss')"
      ]
     },
     "execution_count": 18,
     "metadata": {},
     "output_type": "execute_result"
    },
    {
     "data": {
      "image/png": "[encoded data removed]",
      "text/plain": [
       "<Figure size 432x288 with 1 Axes>"
      ]
     },
     "metadata": {
      "needs_background": "light"
     },
     "output_type": "display_data"
    }
   ],
   "source": [
    "fig = plt.figure()\n",
    "\n",
    "plt.plot(list(range(1, len(training_losses)+1)), training_losses, color='blue')\n",
    "plt.plot(list(range(1, len(testing_losses)+1)), testing_losses, color='red')\n",
    "\n",
    "plt.legend(['Train Loss', 'Test Loss'], loc='upper right')\n",
    "plt.xlabel('number of training examples seen')\n",
    "plt.ylabel('Loss')"
   ]
  },
  {
   "cell_type": "markdown",
   "metadata": {},
   "source": [
    "### Evolution of the accuracy"
   ]
  },
  {
   "cell_type": "code",
   "execution_count": 19,
   "metadata": {},
   "outputs": [
    {
     "data": {
      "text/plain": [
       "Text(0, 0.5, 'Accuracy')"
      ]
     },
     "execution_count": 19,
     "metadata": {},
     "output_type": "execute_result"
    },
    {
     "data": {
      "image/png": "[encoded data removed]",
      "text/plain": [
       "<Figure size 432x288 with 1 Axes>"
      ]
     },
     "metadata": {
      "needs_background": "light"
     },
     "output_type": "display_data"
    }
   ],
   "source": [
    "fig = plt.figure()\n",
    "\n",
    "plt.plot(list(range(1, len(training_accuracies)+1)), training_accuracies, color='blue')\n",
    "plt.plot(list(range(1, len(testing_accuracies)+1)), testing_accuracies, color='red')\n",
    "\n",
    "plt.legend(['Train Accuracy', 'Test Accuracy'], loc='upper right')\n",
    "plt.xlabel('number of training examples seen')\n",
    "plt.ylabel('Accuracy')"
   ]
  }
 ],
 "metadata": {
  "kernelspec": {
   "display_name": "Python 3",
   "language": "python",
   "name": "python3"
  },
  "language_info": {
   "codemirror_mode": {
    "name": "ipython",
    "version": 3
   },
   "file_extension": ".py",
   "mimetype": "text/x-python",
   "name": "python",
   "nbconvert_exporter": "python",
   "pygments_lexer": "ipython3",
   "version": "3.8.3"
  }
 },
 "nbformat": 4,
 "nbformat_minor": 4
}
